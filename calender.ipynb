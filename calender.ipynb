{
 "cells": [
  {
   "cell_type": "code",
   "execution_count": null,
   "metadata": {},
   "outputs": [
    {
     "name": "stdout",
     "output_type": "stream",
     "text": [
      "Getting the upcoming 10 events\n",
      "2025-07-10 Arnav Rawat's birthday\n",
      "2025-09-19 Happy birthday!\n",
      "2025-10-05 Shreyansh Tripathi's birthday\n",
      "2025-10-25 Swayam's birthday\n",
      "2025-10-28 Nayan Mattoo's birthday\n",
      "2025-11-02 Gitesh Anand's birthday\n",
      "2025-12-26 Lakshay Ai SRM's birthday\n",
      "2026-01-05 Hannah's birthday\n",
      "2026-02-04T17:00:00+05:30 Akansha's Birthday\n",
      "2026-07-10 Arnav Rawat's birthday\n"
     ]
    }
   ],
   "source": [
    "from googleapiclient.discovery import build\n",
    "from google_auth_oauthlib.flow import InstalledAppFlow\n",
    "from google.auth.transport.requests import Request\n",
    "import os.path\n",
    "import pickle\n",
    "import datetime\n",
    "# If modifying these SCOPES, delete the file token.pickle.\n",
    "SCOPES = ['https://www.googleapis.com/auth/calendar.readonly']\n",
    "\n",
    "def main():\n",
    "    \"\"\"Shows basic usage of the Google Calendar API.\n",
    "    Lists the next 10 events on the user's calendar.\n",
    "    \"\"\"\n",
    "    creds = None\n",
    "    # The file token.pickle stores the user's access and refresh tokens, and is\n",
    "    # created automatically when the authorization flow completes for the first\n",
    "    # time.\n",
    "    if os.path.exists('token.pickle'):\n",
    "        with open('token.pickle', 'rb') as token:\n",
    "            creds = pickle.load(token)\n",
    "    # If there are no (valid) credentials available, let the user log in.\n",
    "    if not creds or not creds.valid:\n",
    "        if creds and creds.expired and creds.refresh_token:\n",
    "            creds.refresh(Request())\n",
    "        else:\n",
    "            flow = InstalledAppFlow.from_client_secrets_file(\n",
    "                'credentials.json', SCOPES)\n",
    "            creds = flow.run_local_server(port=0)\n",
    "        # Save the credentials for the next run\n",
    "        with open('token.pickle', 'wb') as token:\n",
    "            pickle.dump(creds, token)\n",
    "\n",
    "    service = build('calendar', 'v3', credentials=creds)\n",
    "\n",
    "    # Call the Calendar API\n",
    "    now = datetime.datetime.utcnow().isoformat() + 'Z' # 'Z' indicates UTC time\n",
    "    print('Getting the upcoming 10 events')\n",
    "    events_result = service.events().list(calendarId='primary', timeMin=now,\n",
    "                                          maxResults=10, singleEvents=True,\n",
    "                                          orderBy='startTime').execute()\n",
    "    events = events_result.get('items', [])\n",
    "\n",
    "    if not events:\n",
    "        print('No upcoming events found.')\n",
    "    for event in events:\n",
    "        start = event['start'].get('dateTime', event['start'].get('date'))\n",
    "        print(start, event['summary'])\n",
    "\n",
    "if __name__ == '__main__':\n",
    "    main()"
   ]
  },
  {
   "cell_type": "code",
   "execution_count": 10,
   "metadata": {},
   "outputs": [
    {
     "name": "stdout",
     "output_type": "stream",
     "text": [
      "Fetching all calendars:\n",
      "mehtakushaagra@gmail.com\n",
      "CSE-B BASIC ELECTRICAL AND ELECTRONICS ENGINEERING\n",
      "CSE- (AIML) Section-B Section-B\n",
      "CSE-(AIML)-B B\n",
      "CSE-AIML (EGD) Sec- B\n",
      "CSE AIML B B\n",
      "CSE- AIML SEC-B\n",
      "New Python Calendar\n"
     ]
    }
   ],
   "source": [
    "from googleapiclient.discovery import build\n",
    "from google_auth_oauthlib.flow import InstalledAppFlow\n",
    "from google.auth.transport.requests import Request\n",
    "from datetime import datetime, timedelta\n",
    "import os.path\n",
    "import pickle\n",
    "\n",
    "SCOPES = ['https://www.googleapis.com/auth/calendar']\n",
    "\n",
    "\n",
    "creds = None\n",
    "\n",
    "if os.path.exists('token.pickle'):\n",
    "    with open('token.pickle', 'rb') as token:\n",
    "        creds = pickle.load(token)\n",
    "\n",
    "if not creds or not creds.valid:\n",
    "    if creds and creds.expired and creds.refresh_token:\n",
    "        creds.refresh(Request())\n",
    "    else:\n",
    "        flow = InstalledAppFlow.from_client_secrets_file(\n",
    "            'credentials.json', SCOPES)\n",
    "        creds = flow.run_local_server(port=0)\n",
    "\n",
    "    with open('token.pickle', 'wb') as token:\n",
    "        pickle.dump(creds, token)\n",
    "\n",
    "service = build('calendar', 'v3', credentials=creds)\n",
    "\n",
    "# Feature 1: List all calendars\n",
    "print(\"Fetching all calendars:\")\n",
    "calendar_list = service.calendarList().list().execute().get('items', [])\n",
    "for calendar in calendar_list:\n",
    "    print(calendar['summary'])\n",
    "\n"
   ]
  },
  {
   "cell_type": "code",
   "execution_count": 11,
   "metadata": {},
   "outputs": [
    {
     "name": "stdout",
     "output_type": "stream",
     "text": [
      "Created calendar: 61be9956b266573fd99fcad18387a433928eab046f92c4df7e5137f98c044de2@group.calendar.google.com\n"
     ]
    }
   ],
   "source": [
    "new_calendar = {\n",
    "    'summary': 'New Python Calendar',\n",
    "    'timeZone': 'America/Los_Angeles'\n",
    "}\n",
    "created_calendar = service.calendars().insert(body=new_calendar).execute()\n",
    "print(f\"Created calendar: {created_calendar['id']}\")"
   ]
  },
  {
   "cell_type": "code",
   "execution_count": 12,
   "metadata": {},
   "outputs": [
    {
     "name": "stdout",
     "output_type": "stream",
     "text": [
      "mehtakushaagra@gmail.com\n",
      "CSE-B BASIC ELECTRICAL AND ELECTRONICS ENGINEERING\n",
      "CSE- (AIML) Section-B Section-B\n",
      "CSE-(AIML)-B B\n",
      "CSE-AIML (EGD) Sec- B\n",
      "CSE AIML B B\n",
      "CSE- AIML SEC-B\n",
      "New Python Calendar\n",
      "New Python Calendar\n"
     ]
    }
   ],
   "source": [
    "calendar_list = service.calendarList().list().execute().get('items', [])\n",
    "for calendar in calendar_list:\n",
    "    print(calendar['summary'])"
   ]
  },
  {
   "cell_type": "code",
   "execution_count": 13,
   "metadata": {},
   "outputs": [
    {
     "name": "stdout",
     "output_type": "stream",
     "text": [
      "Created event: rnppvg0mlp73fa0fcmc2rk6f88\n"
     ]
    }
   ],
   "source": [
    "    # Feature 3: Insert an event\n",
    "event = {\n",
    "    'summary': 'Python Meeting',\n",
    "    'location': '800 Howard St., San Francisco, CA 94103',\n",
    "    'description': 'A meeting to discuss Python projects.',\n",
    "    'start': {\n",
    "        'dateTime': (datetime.now() + timedelta(days=1)).isoformat(),\n",
    "        'timeZone': 'America/Los_Angeles',\n",
    "    },\n",
    "    'end': {\n",
    "        'dateTime': (datetime.now() + timedelta(days=1, hours=1)).isoformat(),\n",
    "        'timeZone': 'America/Los_Angeles',\n",
    "    },\n",
    "}\n",
    "created_event = service.events().insert(calendarId=created_calendar['id'], body=event).execute()\n",
    "print(f\"Created event: {created_event['id']}\")"
   ]
  },
  {
   "cell_type": "code",
   "execution_count": 16,
   "metadata": {},
   "outputs": [
    {
     "name": "stdout",
     "output_type": "stream",
     "text": [
      "Getting the upcoming 10 events\n",
      "2025-07-10 Arnav Rawat's birthday\n",
      "2025-09-19 Happy birthday!\n",
      "2025-10-05 Shreyansh Tripathi's birthday\n",
      "2025-10-25 Swayam's birthday\n",
      "2025-10-28 Nayan Mattoo's birthday\n",
      "2025-11-02 Gitesh Anand's birthday\n",
      "2025-12-26 Lakshay Ai SRM's birthday\n",
      "2026-01-05 Hannah's birthday\n",
      "2026-02-04T17:00:00+05:30 Akansha's Birthday\n",
      "2026-07-10 Arnav Rawat's birthday\n"
     ]
    }
   ],
   "source": [
    "# print all events\n",
    "\n",
    "now = datetime.now().isoformat() + 'Z' # 'Z' indicates UTC time\n",
    "print('Getting the upcoming 10 events')\n",
    "events_result = service.events().list(calendarId='primary', timeMin=now,\n",
    "                                        maxResults=10, singleEvents=True,\n",
    "                                        orderBy='startTime').execute()\n",
    "events = events_result.get('items', [])\n",
    "\n",
    "if not events:\n",
    "    print('No upcoming events found.')\n",
    "for event in events:\n",
    "    start = event['start'].get('dateTime', event['start'].get('date'))\n",
    "    print(start, event['summary'])"
   ]
  },
  {
   "cell_type": "code",
   "execution_count": 17,
   "metadata": {},
   "outputs": [],
   "source": [
    "# Feature 2: Create a new calendar\n",
    "    \n",
    "\n",
    "\n",
    "\n",
    "    # Feature 4: Update an event\n",
    "    # updated_event = created_event\n",
    "    # updated_event['description'] = 'An updated meeting to discuss Python projects.'\n",
    "    # updated_event = service.events().update(calendarId=created_calendar['id'], eventId=created_event['id'], body=updated_event).execute()\n",
    "    # print(f\"Updated event: {updated_event['id']}\")\n",
    "\n",
    "    # # Feature 5: Delete an event\n",
    "    # service.events().delete(calendarId=created_calendar['id'], eventId=updated_event['id']).execute()\n",
    "    # print(f\"Deleted event: {updated_event['id']}\")\n",
    "\n"
   ]
  },
  {
   "cell_type": "markdown",
   "metadata": {},
   "source": [
    "## LLM Part"
   ]
  },
  {
   "cell_type": "code",
   "execution_count": 9,
   "metadata": {},
   "outputs": [],
   "source": [
    "from langchain_groq import ChatGroq\n",
    "import os\n",
    "from dotenv import load_dotenv\n",
    "load_dotenv()\n",
    "API = os.environ['GROQ_API']"
   ]
  },
  {
   "cell_type": "code",
   "execution_count": 2,
   "metadata": {},
   "outputs": [
    {
     "data": {
      "text/plain": [
       "ChatGroq(client=<groq.resources.chat.completions.Completions object at 0x00000142D84262C0>, async_client=<groq.resources.chat.completions.AsyncCompletions object at 0x00000142D8450610>, model_name='gemma2-9b-it', model_kwargs={}, groq_api_key=SecretStr('**********'))"
      ]
     },
     "execution_count": 2,
     "metadata": {},
     "output_type": "execute_result"
    }
   ],
   "source": [
    "llm = ChatGroq(api_key=API, model=\"gemma2-9b-it\")\n",
    "llm"
   ]
  },
  {
   "cell_type": "code",
   "execution_count": 26,
   "metadata": {},
   "outputs": [],
   "source": [
    "from pydantic import BaseModel, Field\n",
    "from typing import Optional, Literal\n",
    "from datetime import datetime\n",
    "\n",
    "class CalendarOutput(BaseModel):\n",
    "    \"\"\" A data model for structuring event details in a calendar application.\n",
    "\n",
    "    Attributes:\n",
    "        start_date (datetime): The start date and time of the event.\n",
    "        end_date (Optional[datetime]): The end date and time of the event (optional).\n",
    "        title (str): The title or name of the event.\n",
    "        description (str): A brief description of the event.\n",
    "\n",
    "    This class ensures that event details are stored in a structured format,\n",
    "    making it easy to process, validate, and integrate into scheduling systems.\"\n",
    "    \"\"\"\n",
    "    start_date: datetime = Field(description=\"The start date and time of the event.\")\n",
    "    end_date: Optional[datetime] = Field(description=\"The end date and time of the event (optional)\")\n",
    "    title: str = Field(description=\"The title or name of the event.\")\n",
    "    description: str =Field(description=\"A brief description of the event.\")\n",
    "\n",
    "    \n",
    "    # operation : Literal['add_event']\n",
    "\n",
    "def extract_event_details(text: str) -> CalendarOutput:\n",
    "    \"\"\"\n",
    "    Extracts event details from natural language text and returns them in a structured format.\n",
    "\n",
    "    Args:\n",
    "        text (str): The input sentence describing an event.\n",
    "\n",
    "    Returns:\n",
    "        CalendarOutput: The structured event details.\n",
    "    \"\"\"\n",
    "    pass\n"
   ]
  },
  {
   "cell_type": "code",
   "execution_count": 27,
   "metadata": {},
   "outputs": [],
   "source": [
    "from langchain.prompts import PromptTemplate\n",
    "from langchain.output_parsers import PydanticOutputParser\n",
    "\n",
    "parser = PydanticOutputParser(pydantic_object=CalendarOutput)\n"
   ]
  },
  {
   "cell_type": "code",
   "execution_count": 28,
   "metadata": {},
   "outputs": [],
   "source": [
    "\n",
    "prompt = PromptTemplate(\n",
    "    template=\"\"\"\n",
    "    Extract the event details from the following input and return the structured output in JSON format:\n",
    "\n",
    "    {input_text}\n",
    "\n",
    "    {format_instructions}\n",
    "    Give output only in JSON format\n",
    "    \"\"\",\n",
    "    input_variables=[\"input_text\"],\n",
    "    partial_variables={\"format_instructions\": parser.get_format_instructions()}\n",
    ")\n"
   ]
  },
  {
   "cell_type": "code",
   "execution_count": 29,
   "metadata": {},
   "outputs": [],
   "source": [
    "\n",
    "def extract_calendar_event(input_text: str):\n",
    "    formatted_prompt = prompt.format(input_text=input_text)\n",
    "    response = llm.predict(formatted_prompt)\n",
    "    return parser.parse(response)\n",
    "\n"
   ]
  },
  {
   "cell_type": "code",
   "execution_count": 31,
   "metadata": {},
   "outputs": [
    {
     "name": "stdout",
     "output_type": "stream",
     "text": [
      "start_date=datetime.datetime(2025, 3, 25, 10, 0) end_date=datetime.datetime(2025, 3, 25, 12, 0) title='Meeting with the product team' description='to discuss the launch plan'\n"
     ]
    }
   ],
   "source": [
    "\n",
    "# Example Usage\n",
    "input_text = \"Meeting with the product team on March 25, 2025, from 10 AM to 12 PM to discuss the launch plan.\"\n",
    "calendar_event = extract_calendar_event(input_text)\n",
    "print(calendar_event)\n"
   ]
  },
  {
   "cell_type": "code",
   "execution_count": 30,
   "metadata": {},
   "outputs": [
    {
     "name": "stdout",
     "output_type": "stream",
     "text": [
      "start_date=datetime.datetime(2023, 10, 27, 16, 0) end_date=None title='Lunch' description='After homework'\n"
     ]
    }
   ],
   "source": [
    "\n",
    "# Example Usage\n",
    "input_text = \"I have to go for a lunch after my homework at 4 pm today\"\n",
    "calendar_event = extract_calendar_event(input_text)\n",
    "print(calendar_event)\n"
   ]
  },
  {
   "cell_type": "code",
   "execution_count": 20,
   "metadata": {},
   "outputs": [
    {
     "name": "stdout",
     "output_type": "stream",
     "text": [
      "2025-03-25 10:00:00\n"
     ]
    }
   ],
   "source": [
    "from datetime import datetime\n",
    "print(calendar_event.start_date)\n"
   ]
  },
  {
   "cell_type": "markdown",
   "metadata": {},
   "source": [
    "## Agentic"
   ]
  },
  {
   "cell_type": "code",
   "execution_count": 1,
   "metadata": {},
   "outputs": [],
   "source": [
    "from langgraph.graph import StateGraph, START, END\n",
    "from IPython.display import Image, display\n",
    "from langgraph.graph import MessagesState\n",
    "from langgraph.prebuilt import ToolNode\n",
    "from langgraph.prebuilt import tools_condition\n",
    "\n",
    "builder = StateGraph(MessagesState)\n"
   ]
  },
  {
   "cell_type": "code",
   "execution_count": null,
   "metadata": {},
   "outputs": [],
   "source": [
    "from typing_extensions import Literal, TypedDict\n",
    "class St(MessagesState):\n",
    "    workflow : Literal[\"create_event\", \"read_event\"]\n",
    "    "
   ]
  },
  {
   "cell_type": "code",
   "execution_count": 3,
   "metadata": {},
   "outputs": [],
   "source": [
    "ROUTER_PROMPT = \"\"\"\n",
    "You are an AI converstaional assistant and you are responsible to make descisions on what action to perform with the user's calender.\n",
    "You have to take into account the whole conversation so far to make a decision to determine what would be the best next response.\n",
    "\n",
    "GENERAL RULES:\n",
    "1. Always consider the whole conversation before you make a decision.\n",
    "2. Only return one of these outputs - 'create_event', 'read_event'.\n",
    "\n",
    "IMPORTANT RULES FOR CREATING AN EVENT:\n",
    "1. ONLY create an when there is an EXPLICIT request by the user to add a task or event.\n",
    "2. DO NOT create events for general messages and descriptions.\n",
    "3. There should be an intent of the user to create a new task in his calender. \n",
    "\n",
    "IMPORTANT RULES FOR READING EVENTS:\n",
    "1. Only read an event if there is an explicit request by the user to know about the events.\n",
    "2. Only read an event if the user wants to know about his calender.ipynb\n",
    "3. Only read an event if the user wants to know about his pending or future tasks.\n",
    "\n",
    "\n",
    "The output must be one of:\n",
    "1. 'create_event' - only when the intent for the user is to create a new event in his calender\n",
    "2. 'read_event' - only when there is an intent of the user to know about his tasks and events.\n",
    "\n",
    "\n",
    "\n",
    "\"\"\""
   ]
  },
  {
   "cell_type": "code",
   "execution_count": 6,
   "metadata": {},
   "outputs": [],
   "source": [
    "from pydantic import BaseModel, Field\n",
    "# from typing_extensions import Field\n",
    "class RouterResponse(BaseModel):\n",
    "    response_type: str = Field(description=\"The response type to give to the user. It must be one of: 'create_event' or 'read_event'\")\n"
   ]
  },
  {
   "cell_type": "code",
   "execution_count": 10,
   "metadata": {},
   "outputs": [],
   "source": [
    "from langchain_core.prompts import ChatPromptTemplate , MessagesPlaceholder\n",
    "\n",
    "def get_router_chain():\n",
    "    model = ChatGroq( api_key=API, model=\"gemma2-9b-it\").with_structured_output(RouterResponse)\n",
    "\n",
    "    prompt = ChatPromptTemplate.from_messages(\n",
    "        [(\"system\", ROUTER_PROMPT), MessagesPlaceholder(variable_name=\"messages\")]\n",
    "    )\n",
    "\n",
    "    return prompt | model"
   ]
  },
  {
   "cell_type": "code",
   "execution_count": 11,
   "metadata": {},
   "outputs": [],
   "source": [
    "chain = get_router_chain()\n"
   ]
  },
  {
   "cell_type": "code",
   "execution_count": 12,
   "metadata": {},
   "outputs": [
    {
     "data": {
      "text/plain": [
       "RouterResponse(response_type='create_event')"
      ]
     },
     "execution_count": 12,
     "metadata": {},
     "output_type": "execute_result"
    }
   ],
   "source": [
    "chain.invoke({'messages': [\"i have a task to complete my homework today by 4 pm\"]})\n"
   ]
  },
  {
   "cell_type": "code",
   "execution_count": 46,
   "metadata": {},
   "outputs": [
    {
     "data": {
      "text/plain": [
       "RouterResponse(response_type='read_event')"
      ]
     },
     "execution_count": 46,
     "metadata": {},
     "output_type": "execute_result"
    }
   ],
   "source": [
    "chain.invoke({'messages': [\"what are the left over tasks that I have\"]})\n"
   ]
  },
  {
   "cell_type": "code",
   "execution_count": 56,
   "metadata": {},
   "outputs": [
    {
     "data": {
      "text/plain": [
       "RouterResponse(response_type='read_event')"
      ]
     },
     "execution_count": 56,
     "metadata": {},
     "output_type": "execute_result"
    }
   ],
   "source": [
    "chain.invoke({'messages': [\"If I have a task to be done by 4pm today and I do it now how many task will be left for today\"]})\n"
   ]
  },
  {
   "cell_type": "markdown",
   "metadata": {},
   "source": [
    "## Nodes creation"
   ]
  },
  {
   "cell_type": "code",
   "execution_count": null,
   "metadata": {},
   "outputs": [],
   "source": [
    "def router_node(state: St):\n",
    "    chain = get_router_chain()\n",
    "    resp =  chain.invoke(\n",
    "        {\"messages\": state['messages']}\n",
    "    )\n",
    "    return {\"workflow\": resp.response_type}\n"
   ]
  },
  {
   "cell_type": "code",
   "execution_count": 16,
   "metadata": {},
   "outputs": [],
   "source": [
    "def select_workflow(\n",
    "    state: St,\n",
    ") -> Literal[\"create_event_node\", \"read_event_node\"]:\n",
    "    workflow = state[\"workflow\"]\n",
    "\n",
    "    if workflow == \"create_event\":\n",
    "        return \"create_event_node\"\n",
    "\n",
    "    elif workflow == \"read_event\":\n",
    "        return \"read_event_node\"\n"
   ]
  },
  {
   "cell_type": "code",
   "execution_count": 18,
   "metadata": {},
   "outputs": [],
   "source": [
    "def create_event_node():\n",
    "    pass"
   ]
  },
  {
   "cell_type": "code",
   "execution_count": 19,
   "metadata": {},
   "outputs": [],
   "source": [
    "def read_event_node():\n",
    "    pass"
   ]
  },
  {
   "cell_type": "code",
   "execution_count": null,
   "metadata": {},
   "outputs": [],
   "source": []
  },
  {
   "cell_type": "code",
   "execution_count": null,
   "metadata": {},
   "outputs": [],
   "source": []
  },
  {
   "cell_type": "code",
   "execution_count": null,
   "metadata": {},
   "outputs": [],
   "source": []
  },
  {
   "cell_type": "code",
   "execution_count": null,
   "metadata": {},
   "outputs": [],
   "source": []
  },
  {
   "cell_type": "code",
   "execution_count": null,
   "metadata": {},
   "outputs": [],
   "source": []
  },
  {
   "cell_type": "code",
   "execution_count": null,
   "metadata": {},
   "outputs": [],
   "source": []
  },
  {
   "cell_type": "code",
   "execution_count": null,
   "metadata": {},
   "outputs": [],
   "source": []
  },
  {
   "cell_type": "markdown",
   "metadata": {},
   "source": [
    "# final graph"
   ]
  },
  {
   "cell_type": "code",
   "execution_count": null,
   "metadata": {},
   "outputs": [],
   "source": [
    "from langgraph.graph import StateGraph, START, END\n",
    "from IPython.display import Image, display\n",
    "from langgraph.graph import MessagesState\n",
    "from langgraph.prebuilt import ToolNode\n",
    "from langgraph.prebuilt import tools_condition\n",
    "\n",
    "builder = StateGraph(St)"
   ]
  },
  {
   "cell_type": "code",
   "execution_count": null,
   "metadata": {},
   "outputs": [],
   "source": [
    "builder.add_node(\"select_workflow\", select_workflow)\n",
    "builder.add_node(\"router_node\", router_node)\n"
   ]
  },
  {
   "cell_type": "code",
   "execution_count": null,
   "metadata": {},
   "outputs": [
    {
     "ename": "NameError",
     "evalue": "name 'builder' is not defined",
     "output_type": "error",
     "traceback": [
      "\u001b[1;31m---------------------------------------------------------------------------\u001b[0m",
      "\u001b[1;31mNameError\u001b[0m                                 Traceback (most recent call last)",
      "Cell \u001b[1;32mIn[1], line 1\u001b[0m\n\u001b[1;32m----> 1\u001b[0m \u001b[43mbuilder\u001b[49m\u001b[38;5;241m.\u001b[39madd_node(\u001b[38;5;124m\"\u001b[39m\u001b[38;5;124mselect_workflow\u001b[39m\u001b[38;5;124m\"\u001b[39m, select_workflow)\n",
      "\u001b[1;31mNameError\u001b[0m: name 'builder' is not defined"
     ]
    }
   ],
   "source": [
    "builder.add_node(\"select_workflow\", select_workflow)\n",
    "builder.add_node(\"create_event_node\", create_event_node)\n",
    "builder.add_node(\"read_event_node\", read_event_node)\n"
   ]
  },
  {
   "cell_type": "code",
   "execution_count": null,
   "metadata": {},
   "outputs": [],
   "source": [
    "builder.add_edge(START, \"router\")\n",
    "builder.add_edge(\"router\", \"select_workflow\")\n",
    "\n"
   ]
  }
 ],
 "metadata": {
  "kernelspec": {
   "display_name": "gen_env",
   "language": "python",
   "name": "python3"
  },
  "language_info": {
   "codemirror_mode": {
    "name": "ipython",
    "version": 3
   },
   "file_extension": ".py",
   "mimetype": "text/x-python",
   "name": "python",
   "nbconvert_exporter": "python",
   "pygments_lexer": "ipython3",
   "version": "3.10.16"
  }
 },
 "nbformat": 4,
 "nbformat_minor": 2
}
